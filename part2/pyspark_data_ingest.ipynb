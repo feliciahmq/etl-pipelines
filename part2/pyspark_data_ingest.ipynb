{
 "cells": [
  {
   "cell_type": "code",
   "execution_count": 2,
   "id": "8b0f455d-631b-4cde-8062-4a2b956e0c0e",
   "metadata": {},
   "outputs": [],
   "source": [
    "import pyspark\n",
    "from pyspark.sql import SparkSession"
   ]
  },
  {
   "cell_type": "code",
   "execution_count": 3,
   "id": "a705ee58-9a05-4b5d-b83f-d7c081ab4de6",
   "metadata": {},
   "outputs": [
    {
     "name": "stderr",
     "output_type": "stream",
     "text": [
      "WARNING: Using incubator modules: jdk.incubator.vector\n",
      "Using Spark's default log4j profile: org/apache/spark/log4j2-defaults.properties\n",
      "Setting default log level to \"WARN\".\n",
      "To adjust logging level use sc.setLogLevel(newLevel). For SparkR, use setLogLevel(newLevel).\n",
      "25/07/20 22:13:49 WARN NativeCodeLoader: Unable to load native-hadoop library for your platform... using builtin-java classes where applicable\n"
     ]
    }
   ],
   "source": [
    "try:\n",
    "    spark.stop()\n",
    "except NameError:\n",
    "    pass  # Spark not defined yet, safe to ignore\n",
    "\n",
    "from pyspark.sql import SparkSession\n",
    "\n",
    "spark = SparkSession.builder \\\n",
    "    .appName(\"EcommerceETL\") \\\n",
    "    .getOrCreate()"
   ]
  },
  {
   "cell_type": "code",
   "execution_count": 4,
   "id": "af4f5716-048a-44d3-b050-75096d320913",
   "metadata": {},
   "outputs": [],
   "source": [
    "df_sales_raw = spark.read.csv(\"../ecommerce_sales.csv\", header=True)"
   ]
  },
  {
   "cell_type": "code",
   "execution_count": 5,
   "id": "7848c5e5-13a3-4f32-b5a0-68e982afe47d",
   "metadata": {},
   "outputs": [
    {
     "name": "stderr",
     "output_type": "stream",
     "text": [
      "[Stage 1:>                                                          (0 + 8) / 8]\r"
     ]
    },
    {
     "name": "stdout",
     "output_type": "stream",
     "text": [
      "+-----+--------+----+------+----------+--------------+------------------+-----+---+--------+----+----+--------------+---+--------+------+---------+----------+----------------+------------+-------------+---+------------+-----------+\n",
      "|index|Order ID|Date|Status|Fulfilment|Sales Channel |ship-service-level|Style|SKU|Category|Size|ASIN|Courier Status|Qty|currency|Amount|ship-city|ship-state|ship-postal-code|ship-country|promotion-ids|B2B|fulfilled-by|Unnamed: 22|\n",
      "+-----+--------+----+------+----------+--------------+------------------+-----+---+--------+----+----+--------------+---+--------+------+---------+----------+----------------+------------+-------------+---+------------+-----------+\n",
      "|    0|       0|   0|     0|         0|             0|                 0|    0|  0|       0|   0|   0|          6872|  0|    7795|  7795|       33|        33|              33|          33|        49153|  0|       89698|      49050|\n",
      "+-----+--------+----+------+----------+--------------+------------------+-----+---+--------+----+----+--------------+---+--------+------+---------+----------+----------------+------------+-------------+---+------------+-----------+\n",
      "\n"
     ]
    },
    {
     "name": "stderr",
     "output_type": "stream",
     "text": [
      "                                                                                \r"
     ]
    }
   ],
   "source": [
    "from pyspark.sql.functions import col, count, when\n",
    "\n",
    "df_sales_raw.select([count(when(col(c).isNull(), c)).alias(c) for c in df_sales_raw.columns]).show()"
   ]
  },
  {
   "cell_type": "code",
   "execution_count": 6,
   "id": "b1dab418-80c5-4e0a-81cb-cbd0c9aea3d5",
   "metadata": {},
   "outputs": [],
   "source": [
    "from pyspark.sql.functions import col, to_date, when, regexp_replace, expr\n",
    "\n",
    "df_sales = df_sales_raw.select(\n",
    "    to_date(col(\"Date\"), \"MM-dd-yy\").alias(\"Date\"),\n",
    "    col(\"Status\"),\n",
    "    col(\"Fulfilment\"),\n",
    "    when(col(\"Style\").isNull() | (col(\"Style\") == \"\"), \"Unknown\").otherwise(col(\"Style\")).alias(\"Style\"),\n",
    "    when(col(\"SKU\").isNull() | (col(\"SKU\") == \"\"), \"Unknown\").otherwise(col(\"SKU\")).alias(\"SKU\"),\n",
    "    col(\"ASIN\"),\n",
    "    when(col(\"Courier Status\").isNull() | (col(\"Courier Status\") == \"\"), \"Unknown\").otherwise(col(\"Style\")).alias(\"Courier_Status\"),\n",
    "    col(\"Qty\").cast(\"float\").cast(\"int\"),\n",
    "    col(\"Amount\").cast(\"float\"),\n",
    "    col(\"B2B\").cast(\"boolean\"),\n",
    "    col(\"currency\").alias(\"Currency\")\n",
    ").filter(col(\"Amount\").isNotNull() & col(\"Qty\").isNotNull())"
   ]
  },
  {
   "cell_type": "code",
   "execution_count": 7,
   "id": "454e8041-d47f-451c-99b9-b7e7fb57c766",
   "metadata": {},
   "outputs": [
    {
     "name": "stdout",
     "output_type": "stream",
     "text": [
      "root\n",
      " |-- Date: date (nullable = true)\n",
      " |-- Status: string (nullable = true)\n",
      " |-- Fulfilment: string (nullable = true)\n",
      " |-- Style: string (nullable = true)\n",
      " |-- SKU: string (nullable = true)\n",
      " |-- ASIN: string (nullable = true)\n",
      " |-- Courier_Status: string (nullable = true)\n",
      " |-- Qty: integer (nullable = true)\n",
      " |-- Amount: float (nullable = true)\n",
      " |-- B2B: boolean (nullable = true)\n",
      " |-- Currency: string (nullable = true)\n",
      "\n"
     ]
    }
   ],
   "source": [
    "df_sales.printSchema()"
   ]
  },
  {
   "cell_type": "code",
   "execution_count": 8,
   "id": "8519b684-34c8-4bca-8476-e058aaa1bf9b",
   "metadata": {},
   "outputs": [
    {
     "name": "stdout",
     "output_type": "stream",
     "text": [
      "+----------+--------------------+----------+-------+---------------+----------+--------------+---+------+-----+--------+\n",
      "|      Date|              Status|Fulfilment|  Style|            SKU|      ASIN|Courier_Status|Qty|Amount|  B2B|Currency|\n",
      "+----------+--------------------+----------+-------+---------------+----------+--------------+---+------+-----+--------+\n",
      "|2022-04-30|           Cancelled|  Merchant| SET389| SET389-KR-NP-S|B09KXVBD7Z|       Unknown|  0|647.62|false|     INR|\n",
      "|2022-04-30|Shipped - Deliver...|  Merchant|JNE3781|JNE3781-KR-XXXL|B09K3WFS32|       JNE3781|  1| 406.0|false|     INR|\n",
      "|2022-04-30|             Shipped|    Amazon|JNE3371|  JNE3371-KR-XL|B07WV4JV4D|       JNE3371|  1| 329.0| true|     INR|\n",
      "|2022-04-30|           Cancelled|  Merchant|  J0341|     J0341-DR-L|B099NRCT7B|       Unknown|  0|753.33|false|     INR|\n",
      "|2022-04-30|             Shipped|    Amazon|JNE3671|JNE3671-TU-XXXL|B098714BZP|       JNE3671|  1| 574.0|false|     INR|\n",
      "+----------+--------------------+----------+-------+---------------+----------+--------------+---+------+-----+--------+\n",
      "only showing top 5 rows\n"
     ]
    }
   ],
   "source": [
    "df_sales.show(5)"
   ]
  },
  {
   "cell_type": "code",
   "execution_count": 9,
   "id": "743cd7e5-4f22-43b9-a79c-09b82e6b526e",
   "metadata": {},
   "outputs": [
    {
     "name": "stdout",
     "output_type": "stream",
     "text": [
      "+----+------+----------+-----+---+----+--------------+---+------+---+--------+\n",
      "|Date|Status|Fulfilment|Style|SKU|ASIN|Courier_Status|Qty|Amount|B2B|Currency|\n",
      "+----+------+----------+-----+---+----+--------------+---+------+---+--------+\n",
      "|   0|     0|         0|    0|  0|   0|             0|  0|     0|  0|       0|\n",
      "+----+------+----------+-----+---+----+--------------+---+------+---+--------+\n",
      "\n"
     ]
    },
    {
     "name": "stderr",
     "output_type": "stream",
     "text": [
      "                                                                                \r"
     ]
    }
   ],
   "source": [
    "df_sales.select([count(when(col(c).isNull(), c)).alias(c) for c in df_sales.columns]).show()"
   ]
  },
  {
   "cell_type": "code",
   "execution_count": 10,
   "id": "0c25264d-aa70-4985-b2f7-234f7f113db2",
   "metadata": {},
   "outputs": [],
   "source": [
    "df_international_raw = spark.read.csv(\"../international_sales.csv\", header=True)"
   ]
  },
  {
   "cell_type": "code",
   "execution_count": 11,
   "id": "a4237954-bb55-4013-829a-a2b101bbb7d0",
   "metadata": {},
   "outputs": [
    {
     "name": "stdout",
     "output_type": "stream",
     "text": [
      "+-----+----+------+--------+-----+----+----+----+----+---------+\n",
      "|index|DATE|Months|CUSTOMER|Style| SKU|Size| PCS|RATE|GROSS AMT|\n",
      "+-----+----+------+--------+-----+----+----+----+----+---------+\n",
      "|    0|   1|    25|    1040| 1040|2474|1040|1040|1040|     1040|\n",
      "+-----+----+------+--------+-----+----+----+----+----+---------+\n",
      "\n"
     ]
    }
   ],
   "source": [
    "df_international_raw.select([count(when(col(c).isNull(), c)).alias(c) for c in df_international_raw.columns]).show()"
   ]
  },
  {
   "cell_type": "code",
   "execution_count": 12,
   "id": "62dc0567-6578-46df-b435-282126eca613",
   "metadata": {},
   "outputs": [],
   "source": [
    "df_cleaned_raw = df_international_raw.withColumn(\n",
    "    \"GROSS_AMT_CLEAN\", regexp_replace(col(\"GROSS AMT\"), \",\", \"\")\n",
    ")\n",
    "\n",
    "df_valid_dates = df_cleaned_raw.filter(col(\"DATE\").rlike(\"^[0-9]{2}-[0-9]{2}-[0-9]{2}$\"))\n",
    "\n",
    "df_international = df_valid_dates.select(\n",
    "    to_date(col(\"DATE\"), \"MM-dd-yy\").alias(\"Date\"), \n",
    "    col(\"Months\").alias(\"Month\"),\n",
    "    col(\"CUSTOMER\"),\n",
    "    when(col(\"Style\").isNull() | (col(\"Style\") == \"\"), \"Unknown\").otherwise(col(\"Style\")).alias(\"Style\"),\n",
    "    when(col(\"SKU\").isNull() | (col(\"SKU\") == \"\"), \"Unknown\").otherwise(col(\"SKU\")).alias(\"SKU\"),\n",
    "    when(col(\"Size\").isNull() | (col(\"Size\") == \"\"), \"Unknown\").otherwise(col(\"Size\")).alias(\"Size\"),\n",
    "    col(\"PCS\").cast(\"float\").cast(\"int\").alias(\"Pieces\"),\n",
    "    col(\"RATE\").cast(\"float\").alias(\"Rate\"),\n",
    "    expr(\"try_cast(GROSS_AMT_CLEAN as float)\").alias(\"Gross_Amount\")\n",
    ")\n",
    "\n",
    "df_international = df_international.filter(col(\"Gross_Amount\").isNotNull())"
   ]
  },
  {
   "cell_type": "code",
   "execution_count": 13,
   "id": "eec1f07f-d620-4f95-9fd0-bdb317daa8b6",
   "metadata": {},
   "outputs": [
    {
     "name": "stdout",
     "output_type": "stream",
     "text": [
      "root\n",
      " |-- Date: date (nullable = true)\n",
      " |-- Month: string (nullable = true)\n",
      " |-- CUSTOMER: string (nullable = true)\n",
      " |-- Style: string (nullable = true)\n",
      " |-- SKU: string (nullable = true)\n",
      " |-- Size: string (nullable = true)\n",
      " |-- Pieces: integer (nullable = true)\n",
      " |-- Rate: float (nullable = true)\n",
      " |-- Gross_Amount: float (nullable = true)\n",
      "\n"
     ]
    }
   ],
   "source": [
    "df_international.printSchema()"
   ]
  },
  {
   "cell_type": "code",
   "execution_count": 14,
   "id": "10a47fb1-5b6f-4d63-9e28-607d5504ab66",
   "metadata": {},
   "outputs": [
    {
     "name": "stdout",
     "output_type": "stream",
     "text": [
      "+----+-----+--------+-----+---+----+------+----+------------+\n",
      "|Date|Month|CUSTOMER|Style|SKU|Size|Pieces|Rate|Gross_Amount|\n",
      "+----+-----+--------+-----+---+----+------+----+------------+\n",
      "|   0|    0|       0|    0|  0|   0|     0|   0|           0|\n",
      "+----+-----+--------+-----+---+----+------+----+------------+\n",
      "\n"
     ]
    }
   ],
   "source": [
    "df_international.select([count(when(col(c).isNull(), c)).alias(c) for c in df_international.columns]).show()"
   ]
  },
  {
   "cell_type": "code",
   "execution_count": 15,
   "id": "071bdc06-7aae-4e65-a938-dce290bf89fb",
   "metadata": {},
   "outputs": [],
   "source": [
    "df_pricing_raw = spark.read.csv(\"../may-2022.csv\", header=True)"
   ]
  },
  {
   "cell_type": "code",
   "execution_count": 16,
   "id": "6eabc934-005e-4254-a7d9-07f59b5c758d",
   "metadata": {},
   "outputs": [
    {
     "name": "stdout",
     "output_type": "stream",
     "text": [
      "+-----+---+--------+-------+--------+------+---+-------+-------------+--------+----------+--------------+------------+------------+----------+---------+------------+\n",
      "|index|Sku|Style Id|Catalog|Category|Weight| TP|MRP Old|Final MRP Old|Ajio MRP|Amazon MRP|Amazon FBA MRP|Flipkart MRP|Limeroad MRP|Myntra MRP|Paytm MRP|Snapdeal MRP|\n",
      "+-----+---+--------+-------+--------+------+---+-------+-------------+--------+----------+--------------+------------+------------+----------+---------+------------+\n",
      "|    0|  0|       0|      0|       0|     0|  0|      0|            0|       0|         0|             0|           0|           0|         0|        0|           0|\n",
      "+-----+---+--------+-------+--------+------+---+-------+-------------+--------+----------+--------------+------------+------------+----------+---------+------------+\n",
      "\n",
      "root\n",
      " |-- index: string (nullable = true)\n",
      " |-- Sku: string (nullable = true)\n",
      " |-- Style Id: string (nullable = true)\n",
      " |-- Catalog: string (nullable = true)\n",
      " |-- Category: string (nullable = true)\n",
      " |-- Weight: string (nullable = true)\n",
      " |-- TP: string (nullable = true)\n",
      " |-- MRP Old: string (nullable = true)\n",
      " |-- Final MRP Old: string (nullable = true)\n",
      " |-- Ajio MRP: string (nullable = true)\n",
      " |-- Amazon MRP: string (nullable = true)\n",
      " |-- Amazon FBA MRP: string (nullable = true)\n",
      " |-- Flipkart MRP: string (nullable = true)\n",
      " |-- Limeroad MRP: string (nullable = true)\n",
      " |-- Myntra MRP: string (nullable = true)\n",
      " |-- Paytm MRP: string (nullable = true)\n",
      " |-- Snapdeal MRP: string (nullable = true)\n",
      "\n"
     ]
    }
   ],
   "source": [
    "df_pricing_raw.select([count(when(col(c).isNull(), c)).alias(c) for c in df_pricing_raw.columns]).show()\n",
    "df_pricing_raw.printSchema()"
   ]
  },
  {
   "cell_type": "code",
   "execution_count": 17,
   "id": "b6990e74-a92c-48b9-b29e-ed4855cb2e15",
   "metadata": {},
   "outputs": [],
   "source": [
    "int_columns = [\n",
    "    \"Weight\", \"TP\", \"MRP Old\", \"Final MRP Old\", \"Ajio MRP\", \"Amazon MRP\", \"Amazon FBA MRP\",\n",
    "    \"Flipkart MRP\", \"Limeroad MRP\", \"Myntra MRP\", \"Paytm MRP\", \"Snapdeal MRP\"\n",
    "]\n",
    "\n",
    "df_pricing = df_pricing_raw.select(\n",
    "    col(\"index\"),\n",
    "    col(\"Sku\"),\n",
    "    col(\"Catalog\"),\n",
    "    col(\"Category\"),\n",
    "    *[\n",
    "        when(\n",
    "            regexp_replace(col(c), \",\", \"\").rlike(\"^[0-9]+$\"),\n",
    "            regexp_replace(col(c), \",\", \"\").cast(\"int\")\n",
    "        ).otherwise(None).alias(c) if c in int_columns else col(c)\n",
    "        for c in df_pricing_raw.columns if c not in [\"index\", \"Sku\", \"Catalog\", \"Category\"]\n",
    "    ]\n",
    ")"
   ]
  },
  {
   "cell_type": "code",
   "execution_count": 18,
   "id": "2b5cc2ef-6f78-480f-8bab-560eb34fc8da",
   "metadata": {},
   "outputs": [
    {
     "name": "stdout",
     "output_type": "stream",
     "text": [
      "root\n",
      " |-- index: string (nullable = true)\n",
      " |-- Sku: string (nullable = true)\n",
      " |-- Catalog: string (nullable = true)\n",
      " |-- Category: string (nullable = true)\n",
      " |-- Style Id: string (nullable = true)\n",
      " |-- Weight: integer (nullable = true)\n",
      " |-- TP: integer (nullable = true)\n",
      " |-- MRP Old: integer (nullable = true)\n",
      " |-- Final MRP Old: integer (nullable = true)\n",
      " |-- Ajio MRP: integer (nullable = true)\n",
      " |-- Amazon MRP: integer (nullable = true)\n",
      " |-- Amazon FBA MRP: integer (nullable = true)\n",
      " |-- Flipkart MRP: integer (nullable = true)\n",
      " |-- Limeroad MRP: integer (nullable = true)\n",
      " |-- Myntra MRP: integer (nullable = true)\n",
      " |-- Paytm MRP: integer (nullable = true)\n",
      " |-- Snapdeal MRP: integer (nullable = true)\n",
      "\n"
     ]
    }
   ],
   "source": [
    "df_pricing.printSchema()"
   ]
  },
  {
   "cell_type": "code",
   "execution_count": 55,
   "id": "e2540ccc-7788-4ec2-b8c7-8edc035c2396",
   "metadata": {},
   "outputs": [],
   "source": [
    "from pyspark.sql.functions import date_format\n",
    "df_sales = df_sales.withColumn(\"Month\", date_format(\"Date\", \"yyyy-MM\"))"
   ]
  },
  {
   "cell_type": "code",
   "execution_count": 56,
   "id": "cc3e124a-ed97-47ba-8fa8-01425577067e",
   "metadata": {},
   "outputs": [],
   "source": [
    "df_sales.createOrReplaceTempView(\"sales\")\n",
    "df_international.createOrReplaceTempView(\"international_sales\")\n",
    "df_pricing.createOrReplaceTempView(\"pricing\")"
   ]
  },
  {
   "cell_type": "code",
   "execution_count": 57,
   "id": "7cb7654c-f843-456b-805f-a57513e068ec",
   "metadata": {},
   "outputs": [
    {
     "name": "stdout",
     "output_type": "stream",
     "text": [
      "['Date', 'Status', 'Fulfilment', 'Style', 'SKU', 'ASIN', 'Courier_Status', 'Qty', 'Amount', 'B2B', 'Currency', 'Month']\n"
     ]
    }
   ],
   "source": [
    "print(df_sales.columns)"
   ]
  },
  {
   "cell_type": "code",
   "execution_count": 63,
   "id": "f895beac-c9b9-4db8-8ca3-92a19dc8cf8a",
   "metadata": {},
   "outputs": [
    {
     "name": "stdout",
     "output_type": "stream",
     "text": [
      "root\n",
      " |-- Date: date (nullable = true)\n",
      " |-- Status: string (nullable = true)\n",
      " |-- Fulfilment: string (nullable = true)\n",
      " |-- Style: string (nullable = true)\n",
      " |-- SKU: string (nullable = true)\n",
      " |-- ASIN: string (nullable = true)\n",
      " |-- Courier_Status: string (nullable = true)\n",
      " |-- Qty: integer (nullable = true)\n",
      " |-- Amount: float (nullable = true)\n",
      " |-- B2B: boolean (nullable = true)\n",
      " |-- Currency: string (nullable = true)\n",
      " |-- Month: string (nullable = true)\n",
      "\n"
     ]
    }
   ],
   "source": [
    "df_sales.printSchema()"
   ]
  },
  {
   "cell_type": "code",
   "execution_count": 64,
   "id": "1d3d98fc-170b-498f-9c20-3d405c2dd325",
   "metadata": {},
   "outputs": [
    {
     "name": "stdout",
     "output_type": "stream",
     "text": [
      "['Date', 'Month', 'CUSTOMER', 'Style', 'SKU', 'Size', 'Pieces', 'Rate', 'Gross_Amount']\n"
     ]
    }
   ],
   "source": [
    "print(df_international.columns)"
   ]
  },
  {
   "cell_type": "code",
   "execution_count": 65,
   "id": "0bb6215e-8be3-4e63-afd7-88fd4a6cd8ff",
   "metadata": {},
   "outputs": [
    {
     "name": "stdout",
     "output_type": "stream",
     "text": [
      "['index', 'Sku', 'Catalog', 'Category', 'Style Id', 'Weight', 'TP', 'MRP Old', 'Final MRP Old', 'Ajio MRP', 'Amazon MRP', 'Amazon FBA MRP', 'Flipkart MRP', 'Limeroad MRP', 'Myntra MRP', 'Paytm MRP', 'Snapdeal MRP']\n"
     ]
    }
   ],
   "source": [
    "print(df_pricing.columns)"
   ]
  },
  {
   "cell_type": "code",
   "execution_count": 66,
   "id": "0db00480-b5ec-4b34-b560-de29a92a25a3",
   "metadata": {},
   "outputs": [],
   "source": [
    "spark.sql(\"\"\"\n",
    "CREATE OR REPLACE TEMP VIEW top_categories AS\n",
    "SELECT Style AS Category\n",
    "FROM sales\n",
    "GROUP BY Style\n",
    "ORDER BY SUM(Amount) DESC\n",
    "LIMIT 5\n",
    "\"\"\")\n",
    "\n",
    "monthly_sales_by_category = spark.sql(\"\"\"\n",
    "SELECT \n",
    "  Month, \n",
    "  Style AS Category, \n",
    "  SUM(Amount) AS Revenue\n",
    "FROM sales\n",
    "WHERE Style IN (SELECT Category FROM top_categories)\n",
    "  AND Month IS NOT NULL\n",
    "GROUP BY Month, Style\n",
    "ORDER BY Month, Category\n",
    "\"\"\")\n",
    "# line chart\n",
    "monthly_sales_by_category = monthly_sales_by_category.withColumn(\"Month\", to_date(\"Month\", \"yyyy-MM\"))"
   ]
  },
  {
   "cell_type": "code",
   "execution_count": 67,
   "id": "22f4c9f2-9f89-456d-80a6-f813afc64180",
   "metadata": {},
   "outputs": [
    {
     "name": "stdout",
     "output_type": "stream",
     "text": [
      "root\n",
      " |-- Month: date (nullable = true)\n",
      " |-- Category: string (nullable = true)\n",
      " |-- Revenue: double (nullable = true)\n",
      "\n"
     ]
    }
   ],
   "source": [
    "monthly_sales_by_category.printSchema()"
   ]
  },
  {
   "cell_type": "code",
   "execution_count": 68,
   "id": "413cfc2c-9032-4b3f-835c-44e55430f066",
   "metadata": {},
   "outputs": [
    {
     "name": "stdout",
     "output_type": "stream",
     "text": [
      "+----------+--------+------------------+\n",
      "|Month     |Category|Revenue           |\n",
      "+----------+--------+------------------+\n",
      "|2022-03-01|J0003   |3440.0            |\n",
      "|2022-03-01|J0230   |2997.0            |\n",
      "|2022-03-01|J0341   |2198.0            |\n",
      "|2022-03-01|JNE3797 |2246.760009765625 |\n",
      "|2022-03-01|SET268  |2094.0            |\n",
      "|2022-04-01|J0003   |475522.47900390625|\n",
      "|2022-04-01|J0230   |888995.1998901367 |\n",
      "|2022-04-01|J0341   |489053.42028808594|\n",
      "|2022-04-01|JNE3797 |319696.0498046875 |\n",
      "|2022-04-01|SET268  |1060213.7199707031|\n",
      "+----------+--------+------------------+\n",
      "only showing top 10 rows\n"
     ]
    }
   ],
   "source": [
    "monthly_sales_by_category.show(10, truncate=False)\n",
    "monthly_sales_by_category.write.mode(\"overwrite\").parquet(\"outputs/monthly_sales_by_category\")"
   ]
  },
  {
   "cell_type": "code",
   "execution_count": 69,
   "id": "5049f0ef-b38b-415d-8e6b-31d4a6043adb",
   "metadata": {},
   "outputs": [],
   "source": [
    "top_product_sku_by_amount = spark.sql(\"\"\"\n",
    "SELECT SKU, SUM(Amount) AS Total_Gross, COUNT(*) AS Orders\n",
    "FROM sales\n",
    "GROUP BY SKU\n",
    "ORDER BY Total_Gross DESC\n",
    "LIMIT 10    \n",
    "\"\"\")\n",
    "# bar chart"
   ]
  },
  {
   "cell_type": "code",
   "execution_count": 70,
   "id": "c8a2d8f0-cff8-45a0-b0a9-6770feef1bbe",
   "metadata": {},
   "outputs": [
    {
     "name": "stdout",
     "output_type": "stream",
     "text": [
      "+---------------+------------------+------+\n",
      "|SKU            |Total_Gross       |Orders|\n",
      "+---------------+------------------+------+\n",
      "|J0230-SKD-M    |527699.1999511719 |472   |\n",
      "|JNE3797-KR-L   |524581.76953125   |722   |\n",
      "|J0230-SKD-S    |479937.14013671875|428   |\n",
      "|JNE3797-KR-M   |454290.15966796875|621   |\n",
      "|JNE3797-KR-S   |407302.56951904297|553   |\n",
      "|JNE3797-KR-XL  |332155.23974609375|446   |\n",
      "|J0230-SKD-L    |305616.9500732422 |275   |\n",
      "|JNE3797-KR-XS  |303616.69982910156|407   |\n",
      "|SET268-KR-NP-XL|284058.9599609375 |372   |\n",
      "|JNE3797-KR-XXXL|276375.7998046875 |374   |\n",
      "+---------------+------------------+------+\n",
      "\n"
     ]
    }
   ],
   "source": [
    "top_product_sku_by_amount.show(10, truncate=False)\n",
    "top_product_sku_by_amount.write.mode(\"overwrite\").parquet(\"outputs/top_product_sku_by_amount\")"
   ]
  },
  {
   "cell_type": "code",
   "execution_count": 71,
   "id": "b0bd3bb6-f221-4c01-bad1-e7f2748e9341",
   "metadata": {},
   "outputs": [],
   "source": [
    "sales_by_fulfilment = spark.sql(\"\"\"\n",
    "SELECT Fulfilment, SUM(Amount) AS Revenue, COUNT(*) AS Orders\n",
    "FROM sales\n",
    "GROUP BY Fulfilment\n",
    "\"\"\")\n",
    "# pie chart"
   ]
  },
  {
   "cell_type": "code",
   "execution_count": 72,
   "id": "4d6987de-8b20-475e-8263-b8e1a1ab0dd8",
   "metadata": {},
   "outputs": [
    {
     "name": "stdout",
     "output_type": "stream",
     "text": [
      "+----------+-------------------+------+\n",
      "|Fulfilment|Revenue            |Orders|\n",
      "+----------+-------------------+------+\n",
      "|Merchant  |2.427052729008484E7|37541 |\n",
      "|Amazon    |5.4322151E7        |83639 |\n",
      "+----------+-------------------+------+\n",
      "\n"
     ]
    }
   ],
   "source": [
    "sales_by_fulfilment.show(10, truncate=False)\n",
    "sales_by_fulfilment.write.mode(\"overwrite\").parquet(\"outputs/sales_by_fulfilment\")"
   ]
  },
  {
   "cell_type": "code",
   "execution_count": 73,
   "id": "d837f6ee-aef3-40d1-b148-24b7bb9d9d81",
   "metadata": {},
   "outputs": [],
   "source": [
    "monthly_sales_by_customer = spark.sql(\"\"\"\n",
    "SELECT Month, CUSTOMER, SUM(Gross_Amount) AS Revenue\n",
    "FROM international_sales\n",
    "GROUP BY Month, CUSTOMER\n",
    "ORDER BY Month\n",
    "LIMIT 10\n",
    "\"\"\")\n",
    "# line chart"
   ]
  },
  {
   "cell_type": "code",
   "execution_count": 74,
   "id": "10d8c568-706c-4569-a640-f9e598fb5178",
   "metadata": {},
   "outputs": [
    {
     "name": "stdout",
     "output_type": "stream",
     "text": [
      "+------+-------------------------------+-------+\n",
      "|Month |CUSTOMER                       |Revenue|\n",
      "+------+-------------------------------+-------+\n",
      "|Apr-22|Tanusree Majumder              |9562.5 |\n",
      "|Apr-22|Natheliya                      |35675.0|\n",
      "|Apr-22|Fusion Fashions Corp. (Gopikas)|67840.0|\n",
      "|Apr-22|Rakshanda Mahajan              |25938.5|\n",
      "|Apr-22|Dhenooga Ravintheran           |10861.5|\n",
      "|Apr-22|Priyanka Gupta                 |53260.0|\n",
      "|Apr-22|Ria Fashion                    |10090.0|\n",
      "|Apr-22|Amandeep Kaur                  |21950.0|\n",
      "|Apr-22|Avin                           |10987.5|\n",
      "|Apr-22|Jeannie Thein Win              |71400.0|\n",
      "+------+-------------------------------+-------+\n",
      "\n"
     ]
    }
   ],
   "source": [
    "monthly_sales_by_customer.show(10, truncate=False)\n",
    "monthly_sales_by_customer.write.mode(\"overwrite\").parquet(\"outputs/monthly_sales_by_customer\")"
   ]
  },
  {
   "cell_type": "code",
   "execution_count": 75,
   "id": "639bc509-75a1-40bf-9bbe-f631a5039ba5",
   "metadata": {},
   "outputs": [],
   "source": [
    "top_intl_product_sku_by_amount = spark.sql(\"\"\"\n",
    "SELECT SKU, SUM(Gross_Amount) AS Total_Gross_Amount\n",
    "FROM international_sales\n",
    "WHERE SKU != 'Unknown'\n",
    "GROUP BY SKU\n",
    "ORDER BY Total_Gross_Amount DESC\n",
    "LIMIT 10\n",
    "\"\"\")\n",
    "# bar chart"
   ]
  },
  {
   "cell_type": "code",
   "execution_count": 76,
   "id": "fb868bdb-9f8b-4b9a-b2f3-42c30303ec53",
   "metadata": {},
   "outputs": [
    {
     "name": "stdout",
     "output_type": "stream",
     "text": [
      "+---------------+------------------+\n",
      "|SKU            |Total_Gross_Amount|\n",
      "+---------------+------------------+\n",
      "|SET268-KR-NP-L |50618.0           |\n",
      "|J0277-SKD-S    |42631.0           |\n",
      "|J0277-SKD-M    |37633.0           |\n",
      "|SET268-KR-NP-M |33866.0           |\n",
      "|SET268-KR-NP-XL|29249.0           |\n",
      "|SET268-KR-NP-S |25505.0           |\n",
      "|SET252-KR-PP-S.|24911.0           |\n",
      "|SET110-KR-PP-S |24443.0           |\n",
      "|SET110-KR-PP-M |24428.0           |\n",
      "|J0277-SKD-L    |23821.0           |\n",
      "+---------------+------------------+\n",
      "\n"
     ]
    }
   ],
   "source": [
    "top_intl_product_sku_by_amount.show(10, truncate=False)\n",
    "top_intl_product_sku_by_amount.write.mode(\"overwrite\").parquet(\"outputs/top_intl_product_sku_by_amount\")"
   ]
  },
  {
   "cell_type": "code",
   "execution_count": 77,
   "id": "4ef577ae-8e1e-4f0a-b8e3-4ec2e5f5af39",
   "metadata": {},
   "outputs": [],
   "source": [
    "pricing_across_platforms = spark.sql(\"\"\"\n",
    "SELECT\n",
    "  Sku,\n",
    "  `Amazon MRP`,\n",
    "  `Amazon FBA MRP`,\n",
    "  `Myntra MRP`,\n",
    "  `Ajio MRP`,\n",
    "  `Flipkart MRP`,\n",
    "  `Snapdeal MRP`,\n",
    "  `Paytm MRP`,\n",
    "  `Limeroad MRP`\n",
    "FROM pricing\n",
    "ORDER BY Sku DESC\n",
    "\"\"\")"
   ]
  },
  {
   "cell_type": "code",
   "execution_count": 78,
   "id": "0c56d179-853c-4fd5-a6b7-98c428df1a43",
   "metadata": {},
   "outputs": [
    {
     "name": "stdout",
     "output_type": "stream",
     "text": [
      "+----------------+----------+--------------+----------+--------+------------+------------+---------+------------+\n",
      "|Sku             |Amazon MRP|Amazon FBA MRP|Myntra MRP|Ajio MRP|Flipkart MRP|Snapdeal MRP|Paytm MRP|Limeroad MRP|\n",
      "+----------------+----------+--------------+----------+--------+------------+------------+---------+------------+\n",
      "|TULIP - 1 BAG_L |498       |498           |498       |498     |498         |498         |498      |498         |\n",
      "|SILVER3-1296-2XL|3149      |3149          |3149      |3149    |3149        |3149        |3149     |3149        |\n",
      "|SILVER3-1293-L  |3149      |3149          |3149      |3149    |3149        |3149        |3149     |3149        |\n",
      "|SILVER3-1293-2XL|3149      |3149          |3149      |3149    |3149        |3149        |3149     |3149        |\n",
      "|Raag-1365_XL    |1365      |1365          |1365      |1365    |1365        |1365        |1365     |1365        |\n",
      "|PLATINUM        |1695      |1695          |1695      |1695    |1695        |1695        |1695     |1695        |\n",
      "|PETALS-1236_L   |4899      |4899          |4899      |4899    |4899        |4899        |4899     |4899        |\n",
      "|PETALS-1233-XL  |4049      |4049          |4049      |4049    |4049        |4049        |4049     |4049        |\n",
      "|PETALS-1232_XL  |4049      |4049          |4049      |4049    |4049        |4049        |4049     |4049        |\n",
      "|PETALS-1232_M   |4049      |4049          |4049      |4049    |4049        |4049        |4049     |4049        |\n",
      "|PETALS-1232_L   |4049      |4049          |4049      |4049    |4049        |4049        |4049     |4049        |\n",
      "|PETALS-1232_3XL |4049      |4049          |4049      |4049    |4049        |4049        |4049     |4049        |\n",
      "|PETALS-1232_2XL |4049      |4049          |4049      |4049    |4049        |4049        |4049     |4049        |\n",
      "|OsKR266_XS      |1995      |1995          |1995      |1995    |1995        |1995        |1995     |1995        |\n",
      "|OsKR266_XL      |1995      |1995          |1995      |1995    |1995        |1995        |1995     |1995        |\n",
      "|OsKR266_S       |1995      |1995          |1995      |1995    |1995        |1995        |1995     |1995        |\n",
      "|OsKR266_M       |1995      |1995          |1995      |1995    |1995        |1995        |1995     |1995        |\n",
      "|OsKR266_L       |1995      |1995          |1995      |1995    |1995        |1995        |1995     |1995        |\n",
      "|OsKR266_3XL     |1995      |1995          |1995      |1995    |1995        |1995        |1995     |1995        |\n",
      "|OsKR266_2XL     |1995      |1995          |1995      |1995    |1995        |1995        |1995     |1995        |\n",
      "+----------------+----------+--------------+----------+--------+------------+------------+---------+------------+\n",
      "only showing top 20 rows\n"
     ]
    }
   ],
   "source": [
    "pricing_across_platforms.show(20, truncate=False)\n",
    "pricing_across_platforms.write.mode(\"overwrite\").parquet(\"outputs/pricing_across_platforms\")"
   ]
  },
  {
   "cell_type": "code",
   "execution_count": 80,
   "id": "e0b7f64f-ff5e-4b18-8f2a-cce95a89b9c6",
   "metadata": {},
   "outputs": [],
   "source": [
    "max_price_diff_across_platforms = spark.sql(\"\"\"\n",
    "SELECT\n",
    "  SKU,\n",
    "  `Amazon MRP`,\n",
    "  `Amazon FBA MRP`,\n",
    "  `Myntra MRP`,\n",
    "  `Ajio MRP`,\n",
    "  `Flipkart MRP`,\n",
    "  `Snapdeal MRP`,\n",
    "  `Paytm MRP`,\n",
    "  `Limeroad MRP`,\n",
    "  \n",
    "  GREATEST(\n",
    "    `Amazon MRP`, `Amazon FBA MRP`, `Myntra MRP`, `Ajio MRP`,\n",
    "    `Flipkart MRP`, `Snapdeal MRP`, `Paytm MRP`, `Limeroad MRP`\n",
    "  ) -\n",
    "  LEAST(\n",
    "    `Amazon MRP`, `Amazon FBA MRP`, `Myntra MRP`, `Ajio MRP`,\n",
    "    `Flipkart MRP`, `Snapdeal MRP`, `Paytm MRP`, `Limeroad MRP`\n",
    "  ) AS Max_Channel_Diff,\n",
    "\n",
    "  CASE GREATEST(\n",
    "    `Amazon MRP`, `Amazon FBA MRP`, `Myntra MRP`, `Ajio MRP`,\n",
    "    `Flipkart MRP`, `Snapdeal MRP`, `Paytm MRP`, `Limeroad MRP`\n",
    "  )\n",
    "    WHEN `Amazon MRP` THEN 'Amazon MRP'\n",
    "    WHEN `Amazon FBA MRP` THEN 'Amazon FBA MRP'\n",
    "    WHEN `Myntra MRP` THEN 'Myntra MRP'\n",
    "    WHEN `Ajio MRP` THEN 'Ajio MRP'\n",
    "    WHEN `Flipkart MRP` THEN 'Flipkart MRP'\n",
    "    WHEN `Snapdeal MRP` THEN 'Snapdeal MRP'\n",
    "    WHEN `Paytm MRP` THEN 'Paytm MRP'\n",
    "    WHEN `Limeroad MRP` THEN 'Limeroad MRP'\n",
    "  END AS Max_Platform,\n",
    "\n",
    "  CASE LEAST(\n",
    "    `Amazon MRP`, `Amazon FBA MRP`, `Myntra MRP`, `Ajio MRP`,\n",
    "    `Flipkart MRP`, `Snapdeal MRP`, `Paytm MRP`, `Limeroad MRP`\n",
    "  )\n",
    "    WHEN `Amazon MRP` THEN 'Amazon MRP'\n",
    "    WHEN `Amazon FBA MRP` THEN 'Amazon FBA MRP'\n",
    "    WHEN `Myntra MRP` THEN 'Myntra MRP'\n",
    "    WHEN `Ajio MRP` THEN 'Ajio MRP'\n",
    "    WHEN `Flipkart MRP` THEN 'Flipkart MRP'\n",
    "    WHEN `Snapdeal MRP` THEN 'Snapdeal MRP'\n",
    "    WHEN `Paytm MRP` THEN 'Paytm MRP'\n",
    "    WHEN `Limeroad MRP` THEN 'Limeroad MRP'\n",
    "  END AS Min_Platform\n",
    "\n",
    "FROM pricing\n",
    "ORDER BY Max_Channel_Diff DESC\n",
    "\"\"\")"
   ]
  },
  {
   "cell_type": "code",
   "execution_count": 82,
   "id": "2480237b-2b22-4813-b5cb-3f64fd06c69d",
   "metadata": {
    "scrolled": true
   },
   "outputs": [
    {
     "name": "stdout",
     "output_type": "stream",
     "text": [
      "+---------+----------+--------------+----------+--------+------------+------------+---------+------------+----------------+------------+------------+\n",
      "|SKU      |Amazon MRP|Amazon FBA MRP|Myntra MRP|Ajio MRP|Flipkart MRP|Snapdeal MRP|Paytm MRP|Limeroad MRP|Max_Channel_Diff|Max_Platform|Min_Platform|\n",
      "+---------+----------+--------------+----------+--------+------------+------------+---------+------------+----------------+------------+------------+\n",
      "|Os168_S  |2495      |2495          |1695      |1695    |1695        |1695        |1695     |1695        |800             |Amazon MRP  |Myntra MRP  |\n",
      "|Os168_M  |2495      |2495          |1695      |1695    |1695        |1695        |1695     |1695        |800             |Amazon MRP  |Myntra MRP  |\n",
      "|Os168_L  |2495      |2495          |1695      |1695    |1695        |1695        |1695     |1695        |800             |Amazon MRP  |Myntra MRP  |\n",
      "|Os168_XL |2495      |2495          |1695      |1695    |1695        |1695        |1695     |1695        |800             |Amazon MRP  |Myntra MRP  |\n",
      "|Os168_2XL|2495      |2495          |1695      |1695    |1695        |1695        |1695     |1695        |800             |Amazon MRP  |Myntra MRP  |\n",
      "|Os168_3XL|2495      |2495          |1695      |1695    |1695        |1695        |1695     |1695        |800             |Amazon MRP  |Myntra MRP  |\n",
      "|Os4172_XS|2500      |2500          |1995      |1995    |1995        |1995        |1995     |1995        |505             |Amazon MRP  |Myntra MRP  |\n",
      "|Os291_S  |2195      |2195          |1795      |1795    |2295        |1795        |1795     |1795        |500             |Flipkart MRP|Myntra MRP  |\n",
      "|Os291_M  |2195      |2195          |1795      |1795    |2295        |1795        |1795     |1795        |500             |Flipkart MRP|Myntra MRP  |\n",
      "|Os291_L  |2195      |2195          |1795      |1795    |2295        |1795        |1795     |1795        |500             |Flipkart MRP|Myntra MRP  |\n",
      "|Os291_XL |2195      |2195          |1795      |1795    |2295        |1795        |1795     |1795        |500             |Flipkart MRP|Myntra MRP  |\n",
      "|Os291_2XL|2195      |2195          |1795      |1795    |2295        |1795        |1795     |1795        |500             |Flipkart MRP|Myntra MRP  |\n",
      "|Os291_3XL|2195      |2195          |1795      |1795    |2295        |1795        |1795     |1795        |500             |Flipkart MRP|Myntra MRP  |\n",
      "|Os277_S  |3397      |3397          |3095      |3397    |3397        |3397        |3397     |3397        |302             |Amazon MRP  |Myntra MRP  |\n",
      "|Os277_M  |3397      |3397          |3095      |3397    |3397        |3397        |3397     |3397        |302             |Amazon MRP  |Myntra MRP  |\n",
      "|Os277_L  |3397      |3397          |3095      |3397    |3397        |3397        |3397     |3397        |302             |Amazon MRP  |Myntra MRP  |\n",
      "|Os277_XL |3397      |3397          |3095      |3397    |3397        |3397        |3397     |3397        |302             |Amazon MRP  |Myntra MRP  |\n",
      "|Os277_2XL|3397      |3397          |3095      |3397    |3397        |3397        |3397     |3397        |302             |Amazon MRP  |Myntra MRP  |\n",
      "|Os277_3XL|3397      |3397          |3095      |3397    |3397        |3397        |3397     |3397        |302             |Amazon MRP  |Myntra MRP  |\n",
      "|Os262_S  |1695      |1695          |1995      |1995    |1995        |1995        |1995     |1995        |300             |Myntra MRP  |Amazon MRP  |\n",
      "+---------+----------+--------------+----------+--------+------------+------------+---------+------------+----------------+------------+------------+\n",
      "only showing top 20 rows\n"
     ]
    }
   ],
   "source": [
    "max_price_diff_across_platforms.show(truncate=False)\n",
    "max_price_diff_across_platforms.write.mode(\"overwrite\").parquet(\"outputs/max_price_diff_across_platforms\")"
   ]
  },
  {
   "cell_type": "code",
   "execution_count": 83,
   "id": "6af522ba-e439-4d67-8c12-983b6446f2d0",
   "metadata": {},
   "outputs": [],
   "source": [
    "avg_price_per_sku = spark.sql(\"\"\"\n",
    "SELECT\n",
    "  Sku,\n",
    "  AVG(`Amazon MRP`) AS Avg_Amazon,\n",
    "  AVG(`Amazon FBA MRP`) AS Avg_FBA,\n",
    "  AVG(`Myntra MRP`) AS Avg_Myntra,\n",
    "  AVG(`Ajio MRP`) AS Avg_Ajio,\n",
    "  AVG(`Flipkart MRP`) AS Avg_Flipkart,\n",
    "  AVG(`Snapdeal MRP`) AS Avg_Snapdeal,\n",
    "  AVG(`Paytm MRP`) AS Avg_Paytm,\n",
    "  AVG(`Limeroad MRP`) AS Avg_Limeroad\n",
    "FROM pricing\n",
    "GROUP BY Sku\n",
    "HAVING\n",
    "  AVG(`Amazon MRP`) IS NOT NULL OR\n",
    "  AVG(`Amazon FBA MRP`) IS NOT NULL OR\n",
    "  AVG(`Myntra MRP`) IS NOT NULL OR\n",
    "  AVG(`Ajio MRP`) IS NOT NULL OR\n",
    "  AVG(`Flipkart MRP`) IS NOT NULL OR\n",
    "  AVG(`Snapdeal MRP`) IS NOT NULL OR\n",
    "  AVG(`Paytm MRP`) IS NOT NULL OR\n",
    "  AVG(`Limeroad MRP`) IS NOT NULL\n",
    "ORDER BY Sku\n",
    "\"\"\")"
   ]
  },
  {
   "cell_type": "code",
   "execution_count": 84,
   "id": "b3fc2028-44a2-4f46-82f0-d9b97f6b7d95",
   "metadata": {},
   "outputs": [
    {
     "name": "stdout",
     "output_type": "stream",
     "text": [
      "+------------------------------------+----------+-------+----------+--------+------------+------------+---------+------------+\n",
      "|Sku                                 |Avg_Amazon|Avg_FBA|Avg_Myntra|Avg_Ajio|Avg_Flipkart|Avg_Snapdeal|Avg_Paytm|Avg_Limeroad|\n",
      "+------------------------------------+----------+-------+----------+--------+------------+------------+---------+------------+\n",
      "|3pl Cottom Face Mask Pack of 3      |199.0     |199.0  |199.0     |199.0   |199.0       |199.0       |199.0    |199.0       |\n",
      "|3pl reusable cotton mask - Pack of 5|299.0     |299.0  |299.0     |299.0   |299.0       |299.0       |299.0    |299.0       |\n",
      "|COPPER-1276                         |3499.0    |3499.0 |3499.0    |3499.0  |3499.0      |3499.0      |3499.0   |3499.0      |\n",
      "|FOUR GEMS-2                         |1695.0    |1695.0 |1695.0    |1695.0  |1695.0      |1695.0      |1695.0   |1695.0      |\n",
      "|GOLD-1351_L                         |4549.0    |4549.0 |4549.0    |4549.0  |4549.0      |4549.0      |4549.0   |4549.0      |\n",
      "|GOLD-1351_M                         |4549.0    |4549.0 |4549.0    |4549.0  |4549.0      |4549.0      |4549.0   |4549.0      |\n",
      "|GOLD-1352_2XL                       |4549.0    |4549.0 |4549.0    |4549.0  |4549.0      |4549.0      |4549.0   |4549.0      |\n",
      "|GOLD-1352_XL                        |4549.0    |4549.0 |4549.0    |4549.0  |4549.0      |4549.0      |4549.0   |4549.0      |\n",
      "|GOLD-1353_L                         |4549.0    |4549.0 |4549.0    |4549.0  |4549.0      |4549.0      |4549.0   |4549.0      |\n",
      "|HASTAG-1193_2XL                     |2449.0    |2449.0 |2449.0    |2449.0  |2449.0      |2449.0      |2449.0   |2449.0      |\n",
      "|HASTAG-1194_L                       |2449.0    |2449.0 |2449.0    |2449.0  |2449.0      |2449.0      |2449.0   |2449.0      |\n",
      "|IRIS_1413_2XL                       |2494.0    |2494.0 |2494.0    |2494.0  |2494.0      |2494.0      |2494.0   |2494.0      |\n",
      "|IRIS_1416_3XL                       |2494.0    |2494.0 |2494.0    |2494.0  |2494.0      |2494.0      |2494.0   |2494.0      |\n",
      "|IRIS_1417_XL                        |2494.0    |2494.0 |2494.0    |2494.0  |2494.0      |2494.0      |2494.0   |2494.0      |\n",
      "|IRIS_1418_2XL                       |2494.0    |2494.0 |2494.0    |2494.0  |2494.0      |2494.0      |2494.0   |2494.0      |\n",
      "|IRIS_1418_3XL                       |2494.0    |2494.0 |2494.0    |2494.0  |2494.0      |2494.0      |2494.0   |2494.0      |\n",
      "|IRIS_1418_M                         |2494.0    |2494.0 |2494.0    |2494.0  |2494.0      |2494.0      |2494.0   |2494.0      |\n",
      "|IVORY-1421_XL                       |2494.0    |2494.0 |2494.0    |2494.0  |2494.0      |2494.0      |2494.0   |2494.0      |\n",
      "|IVORY-1423_2XL                      |2494.0    |2494.0 |2494.0    |2494.0  |2494.0      |2494.0      |2494.0   |2494.0      |\n",
      "|IVORY-1424_3XL                      |2494.0    |2494.0 |2494.0    |2494.0  |2494.0      |2494.0      |2494.0   |2494.0      |\n",
      "+------------------------------------+----------+-------+----------+--------+------------+------------+---------+------------+\n",
      "only showing top 20 rows\n"
     ]
    }
   ],
   "source": [
    "avg_price_per_sku.show(truncate=False)\n",
    "avg_price_per_sku.write.mode(\"overwrite\").parquet(\"outputs/avg_price_per_sku\")"
   ]
  },
  {
   "cell_type": "code",
   "execution_count": null,
   "id": "6908c89b-5c0f-4b3a-9e90-0e1068571c6f",
   "metadata": {},
   "outputs": [],
   "source": []
  },
  {
   "cell_type": "code",
   "execution_count": null,
   "id": "32e80346-dd09-4c4b-8ef4-42696b641c72",
   "metadata": {},
   "outputs": [],
   "source": []
  }
 ],
 "metadata": {
  "kernelspec": {
   "display_name": "Python 3 (ipykernel)",
   "language": "python",
   "name": "python3"
  },
  "language_info": {
   "codemirror_mode": {
    "name": "ipython",
    "version": 3
   },
   "file_extension": ".py",
   "mimetype": "text/x-python",
   "name": "python",
   "nbconvert_exporter": "python",
   "pygments_lexer": "ipython3",
   "version": "3.10.11"
  }
 },
 "nbformat": 4,
 "nbformat_minor": 5
}
